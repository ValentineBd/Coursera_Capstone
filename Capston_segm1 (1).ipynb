{
 "cells": [
  {
   "cell_type": "code",
   "execution_count": 1,
   "metadata": {},
   "outputs": [],
   "source": [
    "import pandas as pd\n",
    "import requests as rq\n",
    "from bs4 import BeautifulSoup"
   ]
  },
  {
   "cell_type": "markdown",
   "metadata": {},
   "source": [
    "# TASK 1"
   ]
  },
  {
   "cell_type": "code",
   "execution_count": 2,
   "metadata": {},
   "outputs": [],
   "source": [
    "link = rq.get('https://en.wikipedia.org/wiki/List_of_postal_codes_of_Canada:_M').text"
   ]
  },
  {
   "cell_type": "code",
   "execution_count": 3,
   "metadata": {},
   "outputs": [],
   "source": [
    "BFS = BeautifulSoup(link, 'xml')\n",
    "BFS_tab = BFS.find('table')\n",
    "columns = ['Postalcode' ,'Borough' ,'Neighborhood']\n",
    "df = pd.DataFrame(columns=columns)"
   ]
  },
  {
   "cell_type": "code",
   "execution_count": 4,
   "metadata": {},
   "outputs": [],
   "source": [
    "for x in BFS_tab.find_all('tr'):\n",
    "    list_yip=[]\n",
    "    for k in x.find_all('td'):\n",
    "        list_yip.append(k.text.strip())\n",
    "    if len(list_yip)==3:\n",
    "        df.loc[len(df)] = list_yip"
   ]
  },
  {
   "cell_type": "code",
   "execution_count": 5,
   "metadata": {},
   "outputs": [
    {
     "data": {
      "text/html": [
       "<div>\n",
       "<style scoped>\n",
       "    .dataframe tbody tr th:only-of-type {\n",
       "        vertical-align: middle;\n",
       "    }\n",
       "\n",
       "    .dataframe tbody tr th {\n",
       "        vertical-align: top;\n",
       "    }\n",
       "\n",
       "    .dataframe thead th {\n",
       "        text-align: right;\n",
       "    }\n",
       "</style>\n",
       "<table border=\"1\" class=\"dataframe\">\n",
       "  <thead>\n",
       "    <tr style=\"text-align: right;\">\n",
       "      <th></th>\n",
       "      <th>Postalcode</th>\n",
       "      <th>Borough</th>\n",
       "      <th>Neighborhood</th>\n",
       "    </tr>\n",
       "  </thead>\n",
       "  <tbody>\n",
       "    <tr>\n",
       "      <th>0</th>\n",
       "      <td>M1A</td>\n",
       "      <td>Not assigned</td>\n",
       "      <td>Not assigned</td>\n",
       "    </tr>\n",
       "    <tr>\n",
       "      <th>1</th>\n",
       "      <td>M2A</td>\n",
       "      <td>Not assigned</td>\n",
       "      <td>Not assigned</td>\n",
       "    </tr>\n",
       "    <tr>\n",
       "      <th>2</th>\n",
       "      <td>M3A</td>\n",
       "      <td>North York</td>\n",
       "      <td>Parkwoods</td>\n",
       "    </tr>\n",
       "    <tr>\n",
       "      <th>3</th>\n",
       "      <td>M4A</td>\n",
       "      <td>North York</td>\n",
       "      <td>Victoria Village</td>\n",
       "    </tr>\n",
       "    <tr>\n",
       "      <th>4</th>\n",
       "      <td>M5A</td>\n",
       "      <td>Downtown Toronto</td>\n",
       "      <td>Regent Park, Harbourfront</td>\n",
       "    </tr>\n",
       "  </tbody>\n",
       "</table>\n",
       "</div>"
      ],
      "text/plain": [
       "  Postalcode           Borough               Neighborhood\n",
       "0        M1A      Not assigned               Not assigned\n",
       "1        M2A      Not assigned               Not assigned\n",
       "2        M3A        North York                  Parkwoods\n",
       "3        M4A        North York           Victoria Village\n",
       "4        M5A  Downtown Toronto  Regent Park, Harbourfront"
      ]
     },
     "execution_count": 5,
     "metadata": {},
     "output_type": "execute_result"
    }
   ],
   "source": [
    "df.head()"
   ]
  },
  {
   "cell_type": "code",
   "execution_count": 6,
   "metadata": {},
   "outputs": [],
   "source": [
    "df_new = df.groupby('Postalcode')['Neighborhood'].apply(lambda x: \"%s\" % ', '.join(x))\n",
    "df_new = df_new.reset_index(drop=False)\n",
    "df_new.rename(columns={'Neighborhood':'Neighborhood_joined'},inplace=True)"
   ]
  },
  {
   "cell_type": "code",
   "execution_count": 7,
   "metadata": {},
   "outputs": [],
   "source": [
    "df = df.merge(df_new, how='left', on='Postalcode')"
   ]
  },
  {
   "cell_type": "code",
   "execution_count": 8,
   "metadata": {},
   "outputs": [],
   "source": [
    "df.drop(['Neighborhood'],axis=1,inplace=True)"
   ]
  },
  {
   "cell_type": "code",
   "execution_count": 9,
   "metadata": {},
   "outputs": [],
   "source": [
    "df = df.rename(columns={'Neighborhood_joined':'Neighborhood'})"
   ]
  },
  {
   "cell_type": "code",
   "execution_count": 10,
   "metadata": {},
   "outputs": [],
   "source": [
    "df = df.rename(columns={'Neighborhood_joined':'Neighborhood'})"
   ]
  },
  {
   "cell_type": "code",
   "execution_count": 11,
   "metadata": {},
   "outputs": [
    {
     "data": {
      "text/html": [
       "<div>\n",
       "<style scoped>\n",
       "    .dataframe tbody tr th:only-of-type {\n",
       "        vertical-align: middle;\n",
       "    }\n",
       "\n",
       "    .dataframe tbody tr th {\n",
       "        vertical-align: top;\n",
       "    }\n",
       "\n",
       "    .dataframe thead th {\n",
       "        text-align: right;\n",
       "    }\n",
       "</style>\n",
       "<table border=\"1\" class=\"dataframe\">\n",
       "  <thead>\n",
       "    <tr style=\"text-align: right;\">\n",
       "      <th></th>\n",
       "      <th>Postalcode</th>\n",
       "      <th>Borough</th>\n",
       "      <th>Neighborhood</th>\n",
       "    </tr>\n",
       "  </thead>\n",
       "  <tbody>\n",
       "    <tr>\n",
       "      <th>0</th>\n",
       "      <td>M1A</td>\n",
       "      <td>Not assigned</td>\n",
       "      <td>Not assigned</td>\n",
       "    </tr>\n",
       "    <tr>\n",
       "      <th>1</th>\n",
       "      <td>M2A</td>\n",
       "      <td>Not assigned</td>\n",
       "      <td>Not assigned</td>\n",
       "    </tr>\n",
       "    <tr>\n",
       "      <th>2</th>\n",
       "      <td>M3A</td>\n",
       "      <td>North York</td>\n",
       "      <td>Parkwoods</td>\n",
       "    </tr>\n",
       "    <tr>\n",
       "      <th>3</th>\n",
       "      <td>M4A</td>\n",
       "      <td>North York</td>\n",
       "      <td>Victoria Village</td>\n",
       "    </tr>\n",
       "    <tr>\n",
       "      <th>4</th>\n",
       "      <td>M5A</td>\n",
       "      <td>Downtown Toronto</td>\n",
       "      <td>Regent Park, Harbourfront</td>\n",
       "    </tr>\n",
       "  </tbody>\n",
       "</table>\n",
       "</div>"
      ],
      "text/plain": [
       "  Postalcode           Borough               Neighborhood\n",
       "0        M1A      Not assigned               Not assigned\n",
       "1        M2A      Not assigned               Not assigned\n",
       "2        M3A        North York                  Parkwoods\n",
       "3        M4A        North York           Victoria Village\n",
       "4        M5A  Downtown Toronto  Regent Park, Harbourfront"
      ]
     },
     "execution_count": 11,
     "metadata": {},
     "output_type": "execute_result"
    }
   ],
   "source": [
    "df.head()"
   ]
  },
  {
   "cell_type": "code",
   "execution_count": 12,
   "metadata": {},
   "outputs": [
    {
     "data": {
      "text/plain": [
       "(180, 3)"
      ]
     },
     "execution_count": 12,
     "metadata": {},
     "output_type": "execute_result"
    }
   ],
   "source": [
    "df.shape"
   ]
  },
  {
   "cell_type": "code",
   "execution_count": 13,
   "metadata": {},
   "outputs": [],
   "source": [
    "df = df[df.Borough != 'Not assigned']"
   ]
  },
  {
   "cell_type": "code",
   "execution_count": 14,
   "metadata": {},
   "outputs": [
    {
     "data": {
      "text/html": [
       "<div>\n",
       "<style scoped>\n",
       "    .dataframe tbody tr th:only-of-type {\n",
       "        vertical-align: middle;\n",
       "    }\n",
       "\n",
       "    .dataframe tbody tr th {\n",
       "        vertical-align: top;\n",
       "    }\n",
       "\n",
       "    .dataframe thead th {\n",
       "        text-align: right;\n",
       "    }\n",
       "</style>\n",
       "<table border=\"1\" class=\"dataframe\">\n",
       "  <thead>\n",
       "    <tr style=\"text-align: right;\">\n",
       "      <th></th>\n",
       "      <th>Postalcode</th>\n",
       "      <th>Borough</th>\n",
       "      <th>Neighborhood</th>\n",
       "    </tr>\n",
       "  </thead>\n",
       "  <tbody>\n",
       "    <tr>\n",
       "      <th>2</th>\n",
       "      <td>M3A</td>\n",
       "      <td>North York</td>\n",
       "      <td>Parkwoods</td>\n",
       "    </tr>\n",
       "    <tr>\n",
       "      <th>3</th>\n",
       "      <td>M4A</td>\n",
       "      <td>North York</td>\n",
       "      <td>Victoria Village</td>\n",
       "    </tr>\n",
       "    <tr>\n",
       "      <th>4</th>\n",
       "      <td>M5A</td>\n",
       "      <td>Downtown Toronto</td>\n",
       "      <td>Regent Park, Harbourfront</td>\n",
       "    </tr>\n",
       "    <tr>\n",
       "      <th>5</th>\n",
       "      <td>M6A</td>\n",
       "      <td>North York</td>\n",
       "      <td>Lawrence Manor, Lawrence Heights</td>\n",
       "    </tr>\n",
       "    <tr>\n",
       "      <th>6</th>\n",
       "      <td>M7A</td>\n",
       "      <td>Downtown Toronto</td>\n",
       "      <td>Queen's Park, Ontario Provincial Government</td>\n",
       "    </tr>\n",
       "  </tbody>\n",
       "</table>\n",
       "</div>"
      ],
      "text/plain": [
       "  Postalcode           Borough                                 Neighborhood\n",
       "2        M3A        North York                                    Parkwoods\n",
       "3        M4A        North York                             Victoria Village\n",
       "4        M5A  Downtown Toronto                    Regent Park, Harbourfront\n",
       "5        M6A        North York             Lawrence Manor, Lawrence Heights\n",
       "6        M7A  Downtown Toronto  Queen's Park, Ontario Provincial Government"
      ]
     },
     "execution_count": 14,
     "metadata": {},
     "output_type": "execute_result"
    }
   ],
   "source": [
    "df.head()"
   ]
  },
  {
   "cell_type": "code",
   "execution_count": 15,
   "metadata": {},
   "outputs": [],
   "source": [
    "df.reset_index(inplace=True)\n",
    "df.drop('index',axis=1,inplace=True)"
   ]
  },
  {
   "cell_type": "code",
   "execution_count": 16,
   "metadata": {},
   "outputs": [
    {
     "data": {
      "text/html": [
       "<div>\n",
       "<style scoped>\n",
       "    .dataframe tbody tr th:only-of-type {\n",
       "        vertical-align: middle;\n",
       "    }\n",
       "\n",
       "    .dataframe tbody tr th {\n",
       "        vertical-align: top;\n",
       "    }\n",
       "\n",
       "    .dataframe thead th {\n",
       "        text-align: right;\n",
       "    }\n",
       "</style>\n",
       "<table border=\"1\" class=\"dataframe\">\n",
       "  <thead>\n",
       "    <tr style=\"text-align: right;\">\n",
       "      <th></th>\n",
       "      <th>Postalcode</th>\n",
       "      <th>Borough</th>\n",
       "      <th>Neighborhood</th>\n",
       "    </tr>\n",
       "  </thead>\n",
       "  <tbody>\n",
       "    <tr>\n",
       "      <th>0</th>\n",
       "      <td>M3A</td>\n",
       "      <td>North York</td>\n",
       "      <td>Parkwoods</td>\n",
       "    </tr>\n",
       "    <tr>\n",
       "      <th>1</th>\n",
       "      <td>M4A</td>\n",
       "      <td>North York</td>\n",
       "      <td>Victoria Village</td>\n",
       "    </tr>\n",
       "    <tr>\n",
       "      <th>2</th>\n",
       "      <td>M5A</td>\n",
       "      <td>Downtown Toronto</td>\n",
       "      <td>Regent Park, Harbourfront</td>\n",
       "    </tr>\n",
       "    <tr>\n",
       "      <th>3</th>\n",
       "      <td>M6A</td>\n",
       "      <td>North York</td>\n",
       "      <td>Lawrence Manor, Lawrence Heights</td>\n",
       "    </tr>\n",
       "    <tr>\n",
       "      <th>4</th>\n",
       "      <td>M7A</td>\n",
       "      <td>Downtown Toronto</td>\n",
       "      <td>Queen's Park, Ontario Provincial Government</td>\n",
       "    </tr>\n",
       "  </tbody>\n",
       "</table>\n",
       "</div>"
      ],
      "text/plain": [
       "  Postalcode           Borough                                 Neighborhood\n",
       "0        M3A        North York                                    Parkwoods\n",
       "1        M4A        North York                             Victoria Village\n",
       "2        M5A  Downtown Toronto                    Regent Park, Harbourfront\n",
       "3        M6A        North York             Lawrence Manor, Lawrence Heights\n",
       "4        M7A  Downtown Toronto  Queen's Park, Ontario Provincial Government"
      ]
     },
     "execution_count": 16,
     "metadata": {},
     "output_type": "execute_result"
    }
   ],
   "source": [
    "df.head()"
   ]
  },
  {
   "cell_type": "code",
   "execution_count": null,
   "metadata": {},
   "outputs": [],
   "source": [
    "df.shape"
   ]
  },
  {
   "cell_type": "markdown",
   "metadata": {},
   "source": [
    "# TASK 2"
   ]
  },
  {
   "cell_type": "code",
   "execution_count": 18,
   "metadata": {},
   "outputs": [],
   "source": [
    "#reading the file to coord dataframe\n",
    "df['Latitude'] = '0';\n",
    "df['Longitude'] = '0';\n",
    "\n",
    "cordinates = pd.read_csv('https://cocl.us/Geospatial_data')"
   ]
  },
  {
   "cell_type": "code",
   "execution_count": 19,
   "metadata": {},
   "outputs": [],
   "source": [
    "for indx in df.index:\n",
    "    for indxcord in cordinates.index:\n",
    "        if df.iloc[indx, 0] == cordinates.iloc[indxcord, 0]:\n",
    "            df.iloc[indx, 3] = cordinates.iloc[indxcord, 1]\n",
    "            df.iloc[indx, 4] = cordinates.iloc[indxcord, 2]          "
   ]
  },
  {
   "cell_type": "code",
   "execution_count": 20,
   "metadata": {},
   "outputs": [
    {
     "data": {
      "text/html": [
       "<div>\n",
       "<style scoped>\n",
       "    .dataframe tbody tr th:only-of-type {\n",
       "        vertical-align: middle;\n",
       "    }\n",
       "\n",
       "    .dataframe tbody tr th {\n",
       "        vertical-align: top;\n",
       "    }\n",
       "\n",
       "    .dataframe thead th {\n",
       "        text-align: right;\n",
       "    }\n",
       "</style>\n",
       "<table border=\"1\" class=\"dataframe\">\n",
       "  <thead>\n",
       "    <tr style=\"text-align: right;\">\n",
       "      <th></th>\n",
       "      <th>Postalcode</th>\n",
       "      <th>Borough</th>\n",
       "      <th>Neighborhood</th>\n",
       "      <th>Latitude</th>\n",
       "      <th>Longitude</th>\n",
       "    </tr>\n",
       "  </thead>\n",
       "  <tbody>\n",
       "    <tr>\n",
       "      <th>0</th>\n",
       "      <td>M3A</td>\n",
       "      <td>North York</td>\n",
       "      <td>Parkwoods</td>\n",
       "      <td>43.7533</td>\n",
       "      <td>-79.3297</td>\n",
       "    </tr>\n",
       "    <tr>\n",
       "      <th>1</th>\n",
       "      <td>M4A</td>\n",
       "      <td>North York</td>\n",
       "      <td>Victoria Village</td>\n",
       "      <td>43.7259</td>\n",
       "      <td>-79.3156</td>\n",
       "    </tr>\n",
       "    <tr>\n",
       "      <th>2</th>\n",
       "      <td>M5A</td>\n",
       "      <td>Downtown Toronto</td>\n",
       "      <td>Regent Park, Harbourfront</td>\n",
       "      <td>43.6543</td>\n",
       "      <td>-79.3606</td>\n",
       "    </tr>\n",
       "    <tr>\n",
       "      <th>3</th>\n",
       "      <td>M6A</td>\n",
       "      <td>North York</td>\n",
       "      <td>Lawrence Manor, Lawrence Heights</td>\n",
       "      <td>43.7185</td>\n",
       "      <td>-79.4648</td>\n",
       "    </tr>\n",
       "    <tr>\n",
       "      <th>4</th>\n",
       "      <td>M7A</td>\n",
       "      <td>Downtown Toronto</td>\n",
       "      <td>Queen's Park, Ontario Provincial Government</td>\n",
       "      <td>43.6623</td>\n",
       "      <td>-79.3895</td>\n",
       "    </tr>\n",
       "  </tbody>\n",
       "</table>\n",
       "</div>"
      ],
      "text/plain": [
       "  Postalcode           Borough                                 Neighborhood  \\\n",
       "0        M3A        North York                                    Parkwoods   \n",
       "1        M4A        North York                             Victoria Village   \n",
       "2        M5A  Downtown Toronto                    Regent Park, Harbourfront   \n",
       "3        M6A        North York             Lawrence Manor, Lawrence Heights   \n",
       "4        M7A  Downtown Toronto  Queen's Park, Ontario Provincial Government   \n",
       "\n",
       "  Latitude Longitude  \n",
       "0  43.7533  -79.3297  \n",
       "1  43.7259  -79.3156  \n",
       "2  43.6543  -79.3606  \n",
       "3  43.7185  -79.4648  \n",
       "4  43.6623  -79.3895  "
      ]
     },
     "execution_count": 20,
     "metadata": {},
     "output_type": "execute_result"
    }
   ],
   "source": [
    "df.head()"
   ]
  },
  {
   "cell_type": "code",
   "execution_count": null,
   "metadata": {},
   "outputs": [],
   "source": []
  },
  {
   "cell_type": "markdown",
   "metadata": {},
   "source": [
    "# TASK 3"
   ]
  },
  {
   "cell_type": "code",
   "execution_count": 21,
   "metadata": {},
   "outputs": [
    {
     "data": {
      "text/plain": [
       "North York          24\n",
       "Downtown Toronto    19\n",
       "Scarborough         17\n",
       "Etobicoke           12\n",
       "Central Toronto      9\n",
       "West Toronto         6\n",
       "East Toronto         5\n",
       "York                 5\n",
       "East York            5\n",
       "Mississauga          1\n",
       "Name: Borough, dtype: int64"
      ]
     },
     "execution_count": 21,
     "metadata": {},
     "output_type": "execute_result"
    }
   ],
   "source": [
    "df.Borough.value_counts()"
   ]
  },
  {
   "cell_type": "code",
   "execution_count": 24,
   "metadata": {},
   "outputs": [],
   "source": [
    "tab_analise = df.loc[df.Borough.isin(['Downtown Toronto', 'Central Toronto', 'West Toronto', 'East Toronto'])].copy()"
   ]
  },
  {
   "cell_type": "code",
   "execution_count": 25,
   "metadata": {},
   "outputs": [
    {
     "data": {
      "text/html": [
       "<div>\n",
       "<style scoped>\n",
       "    .dataframe tbody tr th:only-of-type {\n",
       "        vertical-align: middle;\n",
       "    }\n",
       "\n",
       "    .dataframe tbody tr th {\n",
       "        vertical-align: top;\n",
       "    }\n",
       "\n",
       "    .dataframe thead th {\n",
       "        text-align: right;\n",
       "    }\n",
       "</style>\n",
       "<table border=\"1\" class=\"dataframe\">\n",
       "  <thead>\n",
       "    <tr style=\"text-align: right;\">\n",
       "      <th></th>\n",
       "      <th>Postalcode</th>\n",
       "      <th>Borough</th>\n",
       "      <th>Neighborhood</th>\n",
       "      <th>Latitude</th>\n",
       "      <th>Longitude</th>\n",
       "    </tr>\n",
       "  </thead>\n",
       "  <tbody>\n",
       "    <tr>\n",
       "      <th>2</th>\n",
       "      <td>M5A</td>\n",
       "      <td>Downtown Toronto</td>\n",
       "      <td>Regent Park, Harbourfront</td>\n",
       "      <td>43.6543</td>\n",
       "      <td>-79.3606</td>\n",
       "    </tr>\n",
       "    <tr>\n",
       "      <th>4</th>\n",
       "      <td>M7A</td>\n",
       "      <td>Downtown Toronto</td>\n",
       "      <td>Queen's Park, Ontario Provincial Government</td>\n",
       "      <td>43.6623</td>\n",
       "      <td>-79.3895</td>\n",
       "    </tr>\n",
       "    <tr>\n",
       "      <th>9</th>\n",
       "      <td>M5B</td>\n",
       "      <td>Downtown Toronto</td>\n",
       "      <td>Garden District, Ryerson</td>\n",
       "      <td>43.6572</td>\n",
       "      <td>-79.3789</td>\n",
       "    </tr>\n",
       "    <tr>\n",
       "      <th>15</th>\n",
       "      <td>M5C</td>\n",
       "      <td>Downtown Toronto</td>\n",
       "      <td>St. James Town</td>\n",
       "      <td>43.6515</td>\n",
       "      <td>-79.3754</td>\n",
       "    </tr>\n",
       "    <tr>\n",
       "      <th>19</th>\n",
       "      <td>M4E</td>\n",
       "      <td>East Toronto</td>\n",
       "      <td>The Beaches</td>\n",
       "      <td>43.6764</td>\n",
       "      <td>-79.293</td>\n",
       "    </tr>\n",
       "  </tbody>\n",
       "</table>\n",
       "</div>"
      ],
      "text/plain": [
       "   Postalcode           Borough                                 Neighborhood  \\\n",
       "2         M5A  Downtown Toronto                    Regent Park, Harbourfront   \n",
       "4         M7A  Downtown Toronto  Queen's Park, Ontario Provincial Government   \n",
       "9         M5B  Downtown Toronto                     Garden District, Ryerson   \n",
       "15        M5C  Downtown Toronto                               St. James Town   \n",
       "19        M4E      East Toronto                                  The Beaches   \n",
       "\n",
       "   Latitude Longitude  \n",
       "2   43.6543  -79.3606  \n",
       "4   43.6623  -79.3895  \n",
       "9   43.6572  -79.3789  \n",
       "15  43.6515  -79.3754  \n",
       "19  43.6764   -79.293  "
      ]
     },
     "execution_count": 25,
     "metadata": {},
     "output_type": "execute_result"
    }
   ],
   "source": [
    "tab_analise.head()"
   ]
  },
  {
   "cell_type": "code",
   "execution_count": 26,
   "metadata": {},
   "outputs": [
    {
     "data": {
      "text/plain": [
       "(39, 5)"
      ]
     },
     "execution_count": 26,
     "metadata": {},
     "output_type": "execute_result"
    }
   ],
   "source": [
    "tab_analise.shape"
   ]
  },
  {
   "cell_type": "code",
   "execution_count": 27,
   "metadata": {},
   "outputs": [],
   "source": [
    "import folium"
   ]
  },
  {
   "cell_type": "code",
   "execution_count": 29,
   "metadata": {},
   "outputs": [
    {
     "data": {
      "text/html": [
       "<div style=\"width:100%;\"><div style=\"position:relative;width:100%;height:0;padding-bottom:60%;\"><span style=\"color:#565656\">Make this Notebook Trusted to load map: File -> Trust Notebook</span><iframe src=\"about:blank\" style=\"position:absolute;width:100%;height:100%;left:0;top:0;border:none !important;\" data-html=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 onload=\"this.contentDocument.open();this.contentDocument.write(atob(this.getAttribute('data-html')));this.contentDocument.close();\" allowfullscreen webkitallowfullscreen mozallowfullscreen></iframe></div></div>"
      ],
      "text/plain": [
       "<folium.folium.Map at 0x7f0f98eefbe0>"
      ]
     },
     "execution_count": 29,
     "metadata": {},
     "output_type": "execute_result"
    }
   ],
   "source": [
    "map_toronto = folium.Map(location=[43.651070,-79.347015],zoom_start=10)\n",
    "\n",
    "for lat,lng,borough,neighbourhood in zip(tab_analise['Latitude'],tab_analise['Longitude'],tab_analise['Borough'],tab_analise['Neighborhood']):\n",
    "    label = '{}, {}'.format(neighbourhood, borough)\n",
    "    label = folium.Popup(label, parse_html=True)\n",
    "    folium.CircleMarker(\n",
    "    [lat,lng],\n",
    "    radius=5,\n",
    "    popup=label,\n",
    "    color='blue',\n",
    "    fill=True,\n",
    "    fill_color='#3186cc',\n",
    "    fill_opacity=0.7,\n",
    "    parse_html=False).add_to(map_toronto)\n",
    "map_toronto"
   ]
  },
  {
   "cell_type": "code",
   "execution_count": null,
   "metadata": {},
   "outputs": [],
   "source": []
  }
 ],
 "metadata": {
  "kernelspec": {
   "display_name": "Python 3",
   "language": "python",
   "name": "python3"
  },
  "language_info": {
   "codemirror_mode": {
    "name": "ipython",
    "version": 3
   },
   "file_extension": ".py",
   "mimetype": "text/x-python",
   "name": "python",
   "nbconvert_exporter": "python",
   "pygments_lexer": "ipython3",
   "version": "3.7.3"
  }
 },
 "nbformat": 4,
 "nbformat_minor": 4
}
